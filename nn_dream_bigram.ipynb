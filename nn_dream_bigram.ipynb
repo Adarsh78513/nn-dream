{
  "nbformat": 4,
  "nbformat_minor": 0,
  "metadata": {
    "colab": {
      "provenance": []
    },
    "kernelspec": {
      "name": "python3",
      "display_name": "Python 3"
    },
    "language_info": {
      "name": "python"
    }
  },
  "cells": [
    {
      "cell_type": "code",
      "source": [
        "!wget https://raw.githubusercontent.com/karpathy/char-rnn/master/data/tinyshakespeare/input.txt # data set containing all of shakesphere's work as a text file"
      ],
      "metadata": {
        "id": "fNMUsDLVGCkQ",
        "colab": {
          "base_uri": "https://localhost:8080/"
        },
        "outputId": "2966c0fa-046f-46a8-9975-bd921fb6c797"
      },
      "execution_count": 1,
      "outputs": [
        {
          "output_type": "stream",
          "name": "stdout",
          "text": [
            "--2024-08-21 12:54:09--  https://raw.githubusercontent.com/karpathy/char-rnn/master/data/tinyshakespeare/input.txt\n",
            "Resolving raw.githubusercontent.com (raw.githubusercontent.com)... 185.199.108.133, 185.199.109.133, 185.199.110.133, ...\n",
            "Connecting to raw.githubusercontent.com (raw.githubusercontent.com)|185.199.108.133|:443... connected.\n",
            "HTTP request sent, awaiting response... 200 OK\n",
            "Length: 1115394 (1.1M) [text/plain]\n",
            "Saving to: ‘input.txt.10’\n",
            "\n",
            "\rinput.txt.10          0%[                    ]       0  --.-KB/s               \rinput.txt.10        100%[===================>]   1.06M  --.-KB/s    in 0.06s   \n",
            "\n",
            "2024-08-21 12:54:09 (18.0 MB/s) - ‘input.txt.10’ saved [1115394/1115394]\n",
            "\n"
          ]
        }
      ]
    },
    {
      "cell_type": "code",
      "source": [
        "file = open(\"input.txt\", 'r')\n",
        "text = file.read()\n",
        "print(text[:500])"
      ],
      "metadata": {
        "colab": {
          "base_uri": "https://localhost:8080/"
        },
        "id": "uD6mbWzJTYeQ",
        "outputId": "a0319ce5-e353-4462-83b1-e8699508535c"
      },
      "execution_count": 2,
      "outputs": [
        {
          "output_type": "stream",
          "name": "stdout",
          "text": [
            "First Citizen:\n",
            "Before we proceed any further, hear me speak.\n",
            "\n",
            "All:\n",
            "Speak, speak.\n",
            "\n",
            "First Citizen:\n",
            "You are all resolved rather to die than to famish?\n",
            "\n",
            "All:\n",
            "Resolved. resolved.\n",
            "\n",
            "First Citizen:\n",
            "First, you know Caius Marcius is chief enemy to the people.\n",
            "\n",
            "All:\n",
            "We know't, we know't.\n",
            "\n",
            "First Citizen:\n",
            "Let us kill him, and we'll have corn at our own price.\n",
            "Is't a verdict?\n",
            "\n",
            "All:\n",
            "No more talking on't; let it be done: away, away!\n",
            "\n",
            "Second Citizen:\n",
            "One word, good citizens.\n",
            "\n",
            "First Citizen:\n",
            "We are accounted poor\n"
          ]
        }
      ]
    },
    {
      "cell_type": "code",
      "source": [
        "len(text)"
      ],
      "metadata": {
        "colab": {
          "base_uri": "https://localhost:8080/"
        },
        "id": "Gt71fU2-VIoA",
        "outputId": "306b4713-4433-4b77-d9a1-784b055d0550"
      },
      "execution_count": 3,
      "outputs": [
        {
          "output_type": "execute_result",
          "data": {
            "text/plain": [
              "1115394"
            ]
          },
          "metadata": {},
          "execution_count": 3
        }
      ]
    },
    {
      "cell_type": "code",
      "source": [
        "# Creating the most basic character level tokenizer, because our tokenizer is the most basic the context length will be big compared to if we used sub word level tokenizer.\n",
        "chars = sorted(list(set(text)))\n",
        "vocab_size = len(chars)\n",
        "\n",
        "stoi = { ch:i for i,ch in enumerate(chars) } # Output: {'a': 0, 'b': 1, 'c': 2}\n",
        "itos = { i:ch for i,ch in enumerate(chars) } #\n",
        "def encode(s):\n",
        "  return [stoi[c] for c in s]\n",
        "def decode(l):\n",
        "  return ''.join([itos[c] for c in l])\n",
        "\n",
        "print(decode(encode(\"I am shakesphere!\")))\n",
        "print(\"encoded vector length:\", len(encode(\"I am shakesphere!\")))\n"
      ],
      "metadata": {
        "colab": {
          "base_uri": "https://localhost:8080/"
        },
        "id": "4bXkFq63Vj48",
        "outputId": "6129f3e6-1c8a-4aa1-93de-80e8feef7a65"
      },
      "execution_count": 4,
      "outputs": [
        {
          "output_type": "stream",
          "name": "stdout",
          "text": [
            "I am shakesphere!\n",
            "encoded vector length: 17\n"
          ]
        }
      ]
    },
    {
      "cell_type": "code",
      "source": [
        "import torch\n",
        "device = 'cuda' if torch.cuda.is_available() else 'cpu'\n",
        "data = torch.tensor(encode(text))\n",
        "data.shape, data.dtype"
      ],
      "metadata": {
        "colab": {
          "base_uri": "https://localhost:8080/"
        },
        "id": "L-j0i0kCV-CV",
        "outputId": "b7e5d49d-6738-4814-8a30-405181872d93"
      },
      "execution_count": 5,
      "outputs": [
        {
          "output_type": "execute_result",
          "data": {
            "text/plain": [
              "(torch.Size([1115394]), torch.int64)"
            ]
          },
          "metadata": {},
          "execution_count": 5
        }
      ]
    },
    {
      "cell_type": "code",
      "source": [
        "train_size = int(0.8 * len(data))\n",
        "val_size = int(0.1 * len(data))\n",
        "test_size = len(data) - train_size - val_size\n",
        "\n",
        "train_data = data[:train_size]\n",
        "val_data = data[train_size:train_size + val_size]\n",
        "test_data = data[train_size + val_size:]\n",
        "train_data.shape, val_data.shape, test_data.shape"
      ],
      "metadata": {
        "colab": {
          "base_uri": "https://localhost:8080/"
        },
        "id": "zoQLiqrLanPE",
        "outputId": "66e01049-0227-44de-a226-8f14f420bac6"
      },
      "execution_count": 6,
      "outputs": [
        {
          "output_type": "execute_result",
          "data": {
            "text/plain": [
              "(torch.Size([892315]), torch.Size([111539]), torch.Size([111540]))"
            ]
          },
          "metadata": {},
          "execution_count": 6
        }
      ]
    },
    {
      "cell_type": "code",
      "source": [
        "torch.manual_seed(1337)\n",
        "batch_size = 16\n",
        "block_size = 32 # maximum context length for prediction\n",
        "\n",
        "def get_batch(split):\n",
        "    data = train_data if split == 'train' else val_data if split == 'val' else test_data\n",
        "    ix = torch.randint(len(data) - block_size, (batch_size,))\n",
        "    x = torch.stack([data[i:i+block_size] for i in ix])\n",
        "    y = torch.stack([data[i+1:i+block_size+1] for i in ix])\n",
        "    return x, y\n",
        "\n",
        "xb, yb = get_batch('train')\n",
        "print('inputs:', xb)\n",
        "print('targets:', yb)"
      ],
      "metadata": {
        "colab": {
          "base_uri": "https://localhost:8080/"
        },
        "id": "UI6Poa-qaw35",
        "outputId": "a876b018-d090-4299-9d32-0be48a649383"
      },
      "execution_count": 7,
      "outputs": [
        {
          "output_type": "stream",
          "name": "stdout",
          "text": [
            "inputs: tensor([[39, 56, 58, 46,  8,  0, 13, 50, 50,  1, 51, 39, 63,  1, 40, 43,  1, 61,\n",
            "         43, 50, 50, 11,  1, 40, 59, 58,  6,  1, 47, 44,  1, 19],\n",
            "        [43,  8,  0, 32, 46, 43, 56, 43,  5, 57,  1, 57, 53, 51, 43,  1, 39, 51,\n",
            "         53, 52, 45,  1, 63, 53, 59,  1, 46, 39, 60, 43,  1, 40],\n",
            "        [50, 53,  6,  0, 21,  1, 41, 53, 52, 48, 59, 56, 43,  1, 58, 46, 43, 43,\n",
            "          6,  1, 40, 63,  1, 39, 50, 50,  1, 58, 46, 43,  1, 54],\n",
            "        [ 1, 45, 53, 53, 42,  1, 51, 63,  1, 50, 53, 56, 42, 11,  0, 18, 53, 56,\n",
            "          1, 53, 52,  1, 58, 46, 39, 58,  1, 45, 56, 53, 59, 52],\n",
            "        [56, 47, 43, 52, 42,  8,  0,  0, 32, 46, 47, 56, 42,  1, 35, 39, 58, 41,\n",
            "         46, 51, 39, 52, 10,  0, 27,  6,  1, 47, 57,  1, 47, 58],\n",
            "        [53, 59, 58, 57,  0, 20, 53, 61,  1, 63, 53, 59,  1, 41, 39, 52,  1, 44,\n",
            "         56, 53, 61, 52,  1, 58, 46, 39, 52,  1, 57, 54, 43, 52],\n",
            "        [43, 58, 58, 50, 43, 42,  1, 54, 56, 53, 48, 43, 41, 58,  0, 25, 39, 63,\n",
            "          1, 57, 59, 44, 44, 43, 56,  1, 39, 50, 58, 43, 56, 39],\n",
            "        [57,  1, 50, 47, 49, 43,  1, 58, 46, 53, 56, 52,  8,  0,  0, 25, 17, 30,\n",
            "         15, 33, 32, 21, 27, 10,  0, 21, 44,  1, 50, 53, 60, 43],\n",
            "        [56, 53, 53, 58,  1, 53, 44,  1, 39, 52, 41, 47, 43, 52, 58,  1, 43, 52,\n",
            "         60, 63,  8,  1, 21, 44,  1, 22, 59, 54, 47, 58, 43, 56],\n",
            "        [ 1, 39, 52, 42,  1, 58, 53, 54,  1, 53, 44,  1, 54, 56, 39, 47, 57, 43,\n",
            "         57,  1, 60, 53, 59, 41, 46,  5, 42,  6,  0, 35, 53, 59],\n",
            "        [ 6,  0, 32, 46, 39, 58,  1, 58, 46, 47, 57,  1, 57, 39, 51, 43,  1, 60,\n",
            "         43, 56, 63,  1, 42, 39, 63,  1, 63, 53, 59, 56,  1, 43],\n",
            "        [ 1, 61, 39, 63,  8,  0,  0, 34, 27, 24, 33, 25, 26, 21, 13, 10,  0, 27,\n",
            "          6,  1, 63, 43,  5, 56, 43,  1, 61, 43, 50, 50,  1, 51],\n",
            "        [ 1, 47, 52, 42, 43, 43, 42,  6,  0, 25, 53, 56, 43,  1, 41, 56, 47, 51,\n",
            "         47, 52, 39, 50,  1, 47, 52,  1, 58, 46, 43, 43,  1, 58],\n",
            "        [12,  0, 13, 52, 42,  1, 57, 58, 43, 43, 54,  5, 42,  1, 47, 52,  1, 40,\n",
            "         50, 53, 53, 42, 12,  1, 13, 46,  6,  1, 61, 46, 39, 58],\n",
            "        [52, 43,  1, 59, 52, 58, 53,  1, 51, 63, 57, 43, 50, 44, 12,  0, 27,  6,\n",
            "          1, 52, 53,  2,  1, 39, 50, 39, 57,  6,  1, 21,  1, 56],\n",
            "        [33, 15, 21, 27, 10,  0, 13, 63,  6,  1, 61, 46, 63,  1, 52, 53, 58, 12,\n",
            "          1, 19, 56, 39, 41, 43,  1, 47, 57,  1, 45, 56, 39, 41]])\n",
            "targets: tensor([[56, 58, 46,  8,  0, 13, 50, 50,  1, 51, 39, 63,  1, 40, 43,  1, 61, 43,\n",
            "         50, 50, 11,  1, 40, 59, 58,  6,  1, 47, 44,  1, 19, 53],\n",
            "        [ 8,  0, 32, 46, 43, 56, 43,  5, 57,  1, 57, 53, 51, 43,  1, 39, 51, 53,\n",
            "         52, 45,  1, 63, 53, 59,  1, 46, 39, 60, 43,  1, 40, 43],\n",
            "        [53,  6,  0, 21,  1, 41, 53, 52, 48, 59, 56, 43,  1, 58, 46, 43, 43,  6,\n",
            "          1, 40, 63,  1, 39, 50, 50,  1, 58, 46, 43,  1, 54, 39],\n",
            "        [45, 53, 53, 42,  1, 51, 63,  1, 50, 53, 56, 42, 11,  0, 18, 53, 56,  1,\n",
            "         53, 52,  1, 58, 46, 39, 58,  1, 45, 56, 53, 59, 52, 42],\n",
            "        [47, 43, 52, 42,  8,  0,  0, 32, 46, 47, 56, 42,  1, 35, 39, 58, 41, 46,\n",
            "         51, 39, 52, 10,  0, 27,  6,  1, 47, 57,  1, 47, 58,  1],\n",
            "        [59, 58, 57,  0, 20, 53, 61,  1, 63, 53, 59,  1, 41, 39, 52,  1, 44, 56,\n",
            "         53, 61, 52,  1, 58, 46, 39, 52,  1, 57, 54, 43, 52, 42],\n",
            "        [58, 58, 50, 43, 42,  1, 54, 56, 53, 48, 43, 41, 58,  0, 25, 39, 63,  1,\n",
            "         57, 59, 44, 44, 43, 56,  1, 39, 50, 58, 43, 56, 39, 58],\n",
            "        [ 1, 50, 47, 49, 43,  1, 58, 46, 53, 56, 52,  8,  0,  0, 25, 17, 30, 15,\n",
            "         33, 32, 21, 27, 10,  0, 21, 44,  1, 50, 53, 60, 43,  1],\n",
            "        [53, 53, 58,  1, 53, 44,  1, 39, 52, 41, 47, 43, 52, 58,  1, 43, 52, 60,\n",
            "         63,  8,  1, 21, 44,  1, 22, 59, 54, 47, 58, 43, 56,  0],\n",
            "        [39, 52, 42,  1, 58, 53, 54,  1, 53, 44,  1, 54, 56, 39, 47, 57, 43, 57,\n",
            "          1, 60, 53, 59, 41, 46,  5, 42,  6,  0, 35, 53, 59, 50],\n",
            "        [ 0, 32, 46, 39, 58,  1, 58, 46, 47, 57,  1, 57, 39, 51, 43,  1, 60, 43,\n",
            "         56, 63,  1, 42, 39, 63,  1, 63, 53, 59, 56,  1, 43, 52],\n",
            "        [61, 39, 63,  8,  0,  0, 34, 27, 24, 33, 25, 26, 21, 13, 10,  0, 27,  6,\n",
            "          1, 63, 43,  5, 56, 43,  1, 61, 43, 50, 50,  1, 51, 43],\n",
            "        [47, 52, 42, 43, 43, 42,  6,  0, 25, 53, 56, 43,  1, 41, 56, 47, 51, 47,\n",
            "         52, 39, 50,  1, 47, 52,  1, 58, 46, 43, 43,  1, 58, 46],\n",
            "        [ 0, 13, 52, 42,  1, 57, 58, 43, 43, 54,  5, 42,  1, 47, 52,  1, 40, 50,\n",
            "         53, 53, 42, 12,  1, 13, 46,  6,  1, 61, 46, 39, 58,  1],\n",
            "        [43,  1, 59, 52, 58, 53,  1, 51, 63, 57, 43, 50, 44, 12,  0, 27,  6,  1,\n",
            "         52, 53,  2,  1, 39, 50, 39, 57,  6,  1, 21,  1, 56, 39],\n",
            "        [15, 21, 27, 10,  0, 13, 63,  6,  1, 61, 46, 63,  1, 52, 53, 58, 12,  1,\n",
            "         19, 56, 39, 41, 43,  1, 47, 57,  1, 45, 56, 39, 41, 43]])\n"
          ]
        }
      ]
    },
    {
      "cell_type": "code",
      "source": [
        "import torch\n",
        "import torch.nn as nn\n",
        "from torch.nn import functional as F\n",
        "\n",
        "class Head(nn.Module):\n",
        "    \"\"\" self- attention head, performing the scaled dot product attention,\n",
        "    with three linear layers one each for key, query and value \"\"\"\n",
        "    def __init__(self, head_size):\n",
        "        super().__init__()\n",
        "        self.key = nn.Linear(n_embd, head_size, bias=False)\n",
        "        self.query = nn.Linear(n_embd, head_size, bias=False)\n",
        "        self.value = nn.Linear(n_embd, head_size, bias=False)\n",
        "        self.register_buffer('tril', torch.tril(torch.ones(block_size, block_size)))\n",
        "        self.dropout = nn.Dropout(dropout)\n",
        "\n",
        "    def forward(self, x):\n",
        "        B,T,C = x.shape # (Batch, Time, Channel)\n",
        "        k = self.key(x)   # (B,T,C) will contain info about what it has\n",
        "        q = self.query(x) # (B,T,C) info about what it wants\n",
        "        # compute attention scores (\"affinities\")\n",
        "        wei = q @ k.transpose(-2,-1) * C**-0.5 # (B, T, C) @ (B, C, T) -> (B, T, T) with key and query learn what information to get from where\n",
        "        # when at the character c we dont want to look ahead, so setrting all their probabilities to 0 with the help of softmax\n",
        "        wei = wei.masked_fill(self.tril[:T, :T] == 0, float('-inf')) # (B, T, T)\n",
        "        wei = F.softmax(wei, dim=-1) # (B, T, T)\n",
        "\n",
        "        wei = self.dropout(wei)\n",
        "        # perform the weighted aggregation of the values\n",
        "        v = self.value(x) # (B,T,C) info about what it will give\n",
        "        out = wei @ v # (B, T, T) @ (B, T, C) -> (B, T, C)\n",
        "        return out\n",
        "\n",
        "class MultiHeadAttention(nn.Module):\n",
        "    \"\"\" multiple heads of self-attention in parallel \"\"\"\n",
        "\n",
        "    def __init__(self, num_heads, head_size):\n",
        "        super().__init__()\n",
        "        self.heads = nn.ModuleList([Head(head_size) for _ in range(num_heads)])\n",
        "        self.proj = nn.Linear(n_embd, n_embd)\n",
        "        self.dropout = nn.Dropout(dropout)\n",
        "\n",
        "    def forward(self, x):\n",
        "        out = torch.cat([h(x) for h in self.heads], dim=-1)\n",
        "        out = self.dropout(self.proj(out))\n",
        "        return out\n",
        "\n",
        "class FeedFoward(nn.Module):\n",
        "    \"\"\" a simple linear layer followed by a non-linearity \"\"\"\n",
        "\n",
        "    def __init__(self, n_embd):\n",
        "        super().__init__()\n",
        "        self.net = nn.Sequential(\n",
        "            nn.Linear(n_embd, 4 * n_embd),\n",
        "            nn.ReLU(),\n",
        "            nn.Linear(4 * n_embd, n_embd),\n",
        "            nn.Dropout(dropout),\n",
        "        )\n",
        "\n",
        "    def forward(self, x):\n",
        "        return self.net(x)\n",
        "\n",
        "class Block(nn.Module):\n",
        "    \"\"\" Transformer block: communication followed by computation \"\"\"\n",
        "\n",
        "    def __init__(self, n_embd, n_head):\n",
        "        # n_embd: embedding dimension, n_head: the number of heads we'd like\n",
        "        super().__init__()\n",
        "        head_size = n_embd // n_head\n",
        "        self.sa = MultiHeadAttention(n_head, head_size)\n",
        "        self.ffwd = FeedFoward(n_embd)\n",
        "        self.ln1 = nn.LayerNorm(n_embd)\n",
        "        self.ln2 = nn.LayerNorm(n_embd)\n",
        "\n",
        "    def forward(self, x):\n",
        "        x = x + self.sa(self.ln1(x))\n",
        "        x = x + self.ffwd(self.ln2(x))\n",
        "        return x\n",
        "\n",
        "# simple model\n",
        "class LanguageModel(nn.Module):\n",
        "\n",
        "    def __init__(self):\n",
        "        super().__init__()\n",
        "        # each token directly reads off the logits for the next token from a lookup table\n",
        "        self.token_embedding_table = nn.Embedding(vocab_size, n_embd) # a lookup table\n",
        "        self.position_embedding_table = nn.Embedding(block_size, n_embd) # to store info about the position of the character\n",
        "        self.blocks = nn.Sequential(*[Block(n_embd, n_head) for _ in range(n_layer)])\n",
        "        self.ln_f = nn.LayerNorm(n_embd) # final layer norm\n",
        "        self.lm_head = nn.Linear(n_embd, vocab_size)\n",
        "\n",
        "    def forward(self, idx, targets=None):\n",
        "        B, T = idx.shape # idx and targets are both (B,T) tensor of integers\n",
        "        tok_emb = self.token_embedding_table(idx) # (B,T,C), # plucking out the corresponding embeddings for all the idx\n",
        "        pos_emb = self.position_embedding_table(torch.arange(T, device=device)) # (T,C)\n",
        "        x = tok_emb + pos_emb # (B,T,C)\n",
        "        x = self.blocks(x) # (B,T,C)\n",
        "        x = self.ln_f(x) # (B,T,C)\n",
        "        logits = self.lm_head(x) # (B,T,vocab_size)\n",
        "\n",
        "        if targets is None:\n",
        "            loss = None\n",
        "        else:\n",
        "            B, T, C = logits.shape\n",
        "            logits = logits.view(B*T, C)\n",
        "            targets = targets.view(B*T)\n",
        "            loss = F.cross_entropy(logits, targets)\n",
        "        return logits, loss\n",
        "\n",
        "    def generate(self, contextword, max_new_tokens):\n",
        "        idx = torch.tensor(encode(contextword), device=device).unsqueeze(0)\n",
        "        # idx is (B, T)\n",
        "        for _ in range(max_new_tokens):\n",
        "            idx_cond = idx[:, -block_size:] # crop idx to the last block_size (T) tokens\n",
        "            logits, loss = self(idx_cond) # get the predictions\n",
        "            logits = logits[:, -1, :] # get the last character, tensor is now (B, C)\n",
        "            probs = F.softmax(logits, dim=-1) # (B, C), apply softmax to get probabilities\n",
        "            idx_next = torch.multinomial(probs, num_samples=1) # (B, 1) sample from the distribution\n",
        "            idx = torch.cat((idx, idx_next), dim=1) # (B, T+1), add it and send it again and send\n",
        "        return decode(idx[0].tolist())\n",
        "\n",
        "@torch.no_grad()\n",
        "def estimate_loss():\n",
        "    out = {}\n",
        "    model.eval()\n",
        "    for split in ['train', 'val']:\n",
        "        losses = torch.zeros(eval_iters)\n",
        "        for k in range(eval_iters):\n",
        "            X, Y = get_batch(split)\n",
        "            logits, loss = model(X, Y)\n",
        "            losses[k] = loss.item()\n",
        "        out[split] = losses.mean()\n",
        "    model.train()\n",
        "    return out"
      ],
      "metadata": {
        "id": "yYkcthexwosp"
      },
      "execution_count": 8,
      "outputs": []
    },
    {
      "cell_type": "code",
      "source": [
        "import matplotlib.pyplot as plt\n",
        "# hyperparameters\n",
        "max_iters = 10000\n",
        "eval_interval = 100\n",
        "learning_rate = 1e-3\n",
        "eval_iters = 200\n",
        "n_embd = 64\n",
        "n_head = 4\n",
        "n_layer = 4\n",
        "dropout = 0.2\n",
        "\n",
        "model = LanguageModel()\n",
        "m = model.to(device)\n",
        "print(sum(p.numel() for p in m.parameters()))\n",
        "# create a PyTorch optimizer\n",
        "optimizer = torch.optim.AdamW(model.parameters(), lr=learning_rate)\n",
        "\n",
        "# Variables to store loss values and iterations\n",
        "train_losses = []\n",
        "val_losses = []\n"
      ],
      "metadata": {
        "colab": {
          "base_uri": "https://localhost:8080/"
        },
        "id": "ifHln_g1yXm-",
        "outputId": "4c580a6a-7e16-47af-c154-c75cbbc02d50"
      },
      "execution_count": 9,
      "outputs": [
        {
          "output_type": "stream",
          "name": "stdout",
          "text": [
            "209729\n"
          ]
        }
      ]
    },
    {
      "cell_type": "code",
      "source": [
        "for iter in range(max_iters):\n",
        "    if iter % eval_interval == 0 or iter == max_iters - 1:\n",
        "        losses = estimate_loss()\n",
        "        train_loss = losses['train']\n",
        "        val_loss = losses['val']\n",
        "\n",
        "        # Store losses and current iteration\n",
        "        train_losses.append(train_loss)\n",
        "        val_losses.append(val_loss)\n",
        "\n",
        "        print(f\"step {iter}: train loss {train_loss:.4f}, val loss {val_loss:.4f}\")\n",
        "\n",
        "    # sample a batch of data\n",
        "    xb, yb = get_batch('train')\n",
        "\n",
        "    # make the forward and the backward pass and evaluate the loss\n",
        "    logits, loss = model(xb, yb)\n",
        "    optimizer.zero_grad(set_to_none=True)\n",
        "    loss.backward()\n",
        "    optimizer.step()"
      ],
      "metadata": {
        "colab": {
          "base_uri": "https://localhost:8080/"
        },
        "id": "GXsROQV7dQW-",
        "outputId": "8acce1d6-d680-4001-a338-c19566e532c5"
      },
      "execution_count": 15,
      "outputs": [
        {
          "output_type": "stream",
          "name": "stdout",
          "text": [
            "step 0: train loss 1.6555, val loss 1.7738\n",
            "step 100: train loss 1.6570, val loss 1.7765\n",
            "step 200: train loss 1.6646, val loss 1.7959\n",
            "step 300: train loss 1.6702, val loss 1.7809\n",
            "step 400: train loss 1.6656, val loss 1.7710\n",
            "step 500: train loss 1.6532, val loss 1.7857\n",
            "step 600: train loss 1.6692, val loss 1.7847\n",
            "step 700: train loss 1.6566, val loss 1.7778\n",
            "step 800: train loss 1.6533, val loss 1.7759\n",
            "step 900: train loss 1.6547, val loss 1.7616\n",
            "step 1000: train loss 1.6436, val loss 1.7890\n",
            "step 1100: train loss 1.6534, val loss 1.7791\n",
            "step 1200: train loss 1.6596, val loss 1.7778\n",
            "step 1300: train loss 1.6490, val loss 1.7882\n",
            "step 1400: train loss 1.6457, val loss 1.7738\n",
            "step 1500: train loss 1.6458, val loss 1.7819\n",
            "step 1600: train loss 1.6487, val loss 1.7810\n",
            "step 1700: train loss 1.6419, val loss 1.7744\n",
            "step 1800: train loss 1.6454, val loss 1.7654\n",
            "step 1900: train loss 1.6370, val loss 1.7598\n",
            "step 2000: train loss 1.6431, val loss 1.7588\n",
            "step 2100: train loss 1.6481, val loss 1.7675\n",
            "step 2200: train loss 1.6376, val loss 1.7551\n",
            "step 2300: train loss 1.6428, val loss 1.7694\n",
            "step 2400: train loss 1.6329, val loss 1.7686\n",
            "step 2500: train loss 1.6440, val loss 1.7662\n",
            "step 2600: train loss 1.6378, val loss 1.7501\n",
            "step 2700: train loss 1.6270, val loss 1.7464\n",
            "step 2800: train loss 1.6356, val loss 1.7624\n",
            "step 2900: train loss 1.6389, val loss 1.7431\n",
            "step 3000: train loss 1.6314, val loss 1.7600\n",
            "step 3100: train loss 1.6292, val loss 1.7511\n",
            "step 3200: train loss 1.6227, val loss 1.7483\n",
            "step 3300: train loss 1.6455, val loss 1.7599\n",
            "step 3400: train loss 1.6280, val loss 1.7540\n",
            "step 3500: train loss 1.6223, val loss 1.7432\n",
            "step 3600: train loss 1.6317, val loss 1.7538\n",
            "step 3700: train loss 1.6239, val loss 1.7557\n",
            "step 3800: train loss 1.6351, val loss 1.7577\n",
            "step 3900: train loss 1.6280, val loss 1.7477\n",
            "step 4000: train loss 1.6299, val loss 1.7424\n",
            "step 4100: train loss 1.6212, val loss 1.7516\n",
            "step 4200: train loss 1.6234, val loss 1.7437\n",
            "step 4300: train loss 1.6191, val loss 1.7453\n",
            "step 4400: train loss 1.6150, val loss 1.7589\n",
            "step 4500: train loss 1.6146, val loss 1.7493\n",
            "step 4600: train loss 1.6203, val loss 1.7418\n",
            "step 4700: train loss 1.6164, val loss 1.7463\n",
            "step 4800: train loss 1.6193, val loss 1.7444\n",
            "step 4900: train loss 1.6157, val loss 1.7472\n",
            "step 5000: train loss 1.6126, val loss 1.7456\n",
            "step 5100: train loss 1.6242, val loss 1.7597\n",
            "step 5200: train loss 1.6050, val loss 1.7407\n",
            "step 5300: train loss 1.6177, val loss 1.7401\n",
            "step 5400: train loss 1.6185, val loss 1.7468\n",
            "step 5500: train loss 1.6251, val loss 1.7470\n",
            "step 5600: train loss 1.6158, val loss 1.7355\n",
            "step 5700: train loss 1.6184, val loss 1.7385\n",
            "step 5800: train loss 1.6108, val loss 1.7261\n",
            "step 5900: train loss 1.6146, val loss 1.7525\n",
            "step 6000: train loss 1.6059, val loss 1.7335\n",
            "step 6100: train loss 1.6082, val loss 1.7286\n",
            "step 6200: train loss 1.6169, val loss 1.7350\n",
            "step 6300: train loss 1.6146, val loss 1.7361\n",
            "step 6400: train loss 1.6083, val loss 1.7427\n",
            "step 6500: train loss 1.6079, val loss 1.7360\n",
            "step 6600: train loss 1.6078, val loss 1.7447\n",
            "step 6700: train loss 1.5991, val loss 1.7353\n",
            "step 6800: train loss 1.6088, val loss 1.7306\n",
            "step 6900: train loss 1.5933, val loss 1.7293\n",
            "step 7000: train loss 1.6023, val loss 1.7304\n",
            "step 7100: train loss 1.6114, val loss 1.7456\n",
            "step 7200: train loss 1.6027, val loss 1.7283\n",
            "step 7300: train loss 1.6187, val loss 1.7294\n",
            "step 7400: train loss 1.6031, val loss 1.7364\n",
            "step 7500: train loss 1.6020, val loss 1.7264\n",
            "step 7600: train loss 1.5941, val loss 1.7259\n",
            "step 7700: train loss 1.5969, val loss 1.7304\n",
            "step 7800: train loss 1.5956, val loss 1.7188\n",
            "step 7900: train loss 1.5944, val loss 1.7145\n",
            "step 8000: train loss 1.5990, val loss 1.7092\n",
            "step 8100: train loss 1.5951, val loss 1.7170\n",
            "step 8200: train loss 1.5914, val loss 1.7169\n",
            "step 8300: train loss 1.5957, val loss 1.7084\n",
            "step 8400: train loss 1.5960, val loss 1.7163\n",
            "step 8500: train loss 1.5985, val loss 1.7198\n",
            "step 8600: train loss 1.5943, val loss 1.7210\n",
            "step 8700: train loss 1.5992, val loss 1.7210\n",
            "step 8800: train loss 1.5893, val loss 1.7242\n",
            "step 8900: train loss 1.5866, val loss 1.7208\n",
            "step 9000: train loss 1.5892, val loss 1.7145\n",
            "step 9100: train loss 1.5931, val loss 1.7113\n",
            "step 9200: train loss 1.5918, val loss 1.7136\n",
            "step 9300: train loss 1.5910, val loss 1.7158\n",
            "step 9400: train loss 1.5968, val loss 1.7238\n",
            "step 9500: train loss 1.5877, val loss 1.7182\n",
            "step 9600: train loss 1.5882, val loss 1.7170\n",
            "step 9700: train loss 1.5965, val loss 1.7158\n",
            "step 9800: train loss 1.5913, val loss 1.7217\n",
            "step 9900: train loss 1.5937, val loss 1.7207\n",
            "step 9999: train loss 1.5993, val loss 1.7384\n"
          ]
        }
      ]
    },
    {
      "cell_type": "code",
      "source": [
        "# Plotting the losses\n",
        "plt.figure(figsize=(10, 6))\n",
        "iterations = [i * eval_interval for i in range(len(train_losses))]\n",
        "plt.plot(iterations, train_losses, label='Train Loss')\n",
        "plt.plot(iterations, val_losses, label='Validation Loss')\n",
        "plt.xlabel('Iteration')\n",
        "plt.ylabel('Loss')\n",
        "plt.title('Training and Validation Loss vs. Iterations')\n",
        "plt.legend()\n",
        "plt.grid(True)\n",
        "plt.show()"
      ],
      "metadata": {
        "colab": {
          "base_uri": "https://localhost:8080/",
          "height": 564
        },
        "id": "1dB4ap1iyVq7",
        "outputId": "6c3f5a41-ae1c-44e1-efda-58b4494a5877"
      },
      "execution_count": 16,
      "outputs": [
        {
          "output_type": "display_data",
          "data": {
            "text/plain": [
              "<Figure size 1000x600 with 1 Axes>"
            ],
            "image/png": "[encoded data removed]"
          },
          "metadata": {}
        }
      ]
    },
    {
      "cell_type": "markdown",
      "source": [],
      "metadata": {
        "id": "tpz6HtqrtkkI"
      }
    },
    {
      "cell_type": "markdown",
      "source": [
        "### The models initialization needs to be fixed, currently the loss at the starting is around 4.4 which is too big, it means the model is getting unlucky in the initialization, in a good model initialization the the model should not predict wrong things with so much confidence. To reduce the loss, decrease the range of the enbeddings or include batch normalization. For the first few iterations the model is trying to just unlearn because of the very confident wrong embeddings."
      ],
      "metadata": {
        "id": "ciftaNoS8oCS"
      }
    },
    {
      "cell_type": "code",
      "source": [
        "# The the model predicted every next character with same confidence the loss would a little better, improving that is the next step\n",
        "import math\n",
        "print(\"Good starting loss is\", -math.log(1.0/vocab_size), \"currently the model has a loss of\", losses )"
      ],
      "metadata": {
        "id": "ciT8nhdDy5eK",
        "colab": {
          "base_uri": "https://localhost:8080/"
        },
        "outputId": "9445e5af-3173-44e0-f39a-01b01662b8ca"
      },
      "execution_count": 17,
      "outputs": [
        {
          "output_type": "stream",
          "name": "stdout",
          "text": [
            "Good starting loss is 4.174387269895637 currently the model has a loss of {'train': tensor(1.5993), 'val': tensor(1.7384)}\n"
          ]
        }
      ]
    },
    {
      "cell_type": "code",
      "source": [
        "contextword = \"Hello there\"\n",
        "print(m.generate(contextword, max_new_tokens=2000))"
      ],
      "metadata": {
        "colab": {
          "base_uri": "https://localhost:8080/"
        },
        "id": "RneLigPxeIjf",
        "outputId": "9f59127f-3fef-49be-bc13-7ab02f9fceca"
      },
      "execution_count": 19,
      "outputs": [
        {
          "output_type": "stream",
          "name": "stdout",
          "text": [
            "Hello there is meet bothis is rancety,\n",
            "And he dest crivines at is wair, drow thinks.\n",
            "\n",
            "Thirservent:\n",
            "A there if. A minoth thuo snaine.\n",
            "\n",
            "MENENIUS:\n",
            "Art's bood:\n",
            "And and are and ivenured your botle,\n",
            "At do years thee, didus, brood in my hear is is he fpeach:\n",
            "And be uper which worth, and do. may this kell;\n",
            "Carest frunks tright, for his Jees, ive him.\n",
            "Thou Edness, the cry unsovorse bine,\n",
            "And thy cricte, an not you your king doest friendy.\n",
            "\n",
            "ROMENCORD ROLING:\n",
            "Thou are ourchoness from foith not dants ore we day to't; bell-widdering fuither\n",
            "Monted what, drased you the wou'd a gived the est placiour, is from all,\n",
            "There yourds idal brostit, we the neir more in his\n",
            "wife? Mested pain.\n",
            "\n",
            "KING HENP OF YORK:\n",
            "Do scary hurself: my -diss.\n",
            "\n",
            "LARGrage; after my Ifeaten.\n",
            "\n",
            "DUKE OF AUMNIES:\n",
            "Say queet foot the diew,\n",
            "I'll dead thee, their wis friends.-\n",
            "Than told and to carish,\n",
            "Hath mode. Cappenal by peace,\n",
            "An brous\n",
            "You: no good strong they arm whe your desuge throush heens\n",
            "Than nig-mona's think'. 'fire is genter me\n",
            "Neen and Laurst oat, ditish, those womon\n",
            "With sound's Prodes is not defers which new troye, dief this ruck death\n",
            "And no 'e war fath nine\n",
            "Farew to with.\n",
            "Andraw and ose canoth force your loved,\n",
            "Mo safile, what Ruch livine your ewll be thath no be discianly anoth lifoly her conce the say o' the may.\n",
            "\n",
            "DUKE OLIXEN ELIZAOLANLE:\n",
            "Do knew Prourus deais a kcreap, gaces to of evely you tran netwere of cavens tral,\n",
            "And lie, my forces for father, how bet our; he wilth degues I\n",
            "To do beswer, no malkly anscore crown,\n",
            "That fifruity tell be't sbrain, the wears.\n",
            "WoRdseman.\n",
            "\n",
            "CORIOLANUS:\n",
            "I muse ared, tread! a handy, vanplest\n",
            "Io the pine'st ther true him.\n",
            "\n",
            "QUEEN Edwz:-'Tis the smrother's.\n",
            "Rike murdether huse.\n",
            "\n",
            "TYBALT:\n",
            "Good sontring one me is better.\n",
            "Thou roy like seep opetative neve win our be in ruth:\n",
            "Wita us. Jullect Edney be galiffe;\n",
            "Will And Scern onlementaince a puit treeth.\n",
            "But when brue you, thy have oldlains,\n",
            "Your boses bowns are bester! his winds thire.\n",
            "Yeaths crither; sin, all our ome?\n",
            "\n",
            "ROMEO:\n",
            "I ham I\n",
            "ELIXET\n"
          ]
        }
      ]
    },
    {
      "cell_type": "code",
      "source": [
        "# The data is not that gibrish anymore"
      ],
      "metadata": {
        "id": "dZsYHKPNkasH"
      },
      "execution_count": 14,
      "outputs": []
    },
    {
      "cell_type": "code",
      "source": [],
      "metadata": {
        "id": "ssYRC0dOyUIp"
      },
      "execution_count": 14,
      "outputs": []
    },
    {
      "cell_type": "code",
      "source": [],
      "metadata": {
        "id": "RHGYvF1Ro1b2"
      },
      "execution_count": 14,
      "outputs": []
    }
  ]
}