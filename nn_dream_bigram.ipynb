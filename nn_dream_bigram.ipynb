{
  "nbformat": 4,
  "nbformat_minor": 0,
  "metadata": {
    "colab": {
      "provenance": []
    },
    "kernelspec": {
      "name": "python3",
      "display_name": "Python 3"
    },
    "language_info": {
      "name": "python"
    }
  },
  "cells": [
    {
      "cell_type": "code",
      "source": [
        "!wget https://raw.githubusercontent.com/karpathy/char-rnn/master/data/tinyshakespeare/input.txt # data set containing all of shakesphere's work as a text file"
      ],
      "metadata": {
        "id": "fNMUsDLVGCkQ",
        "colab": {
          "base_uri": "https://localhost:8080/"
        },
        "outputId": "fb0ad79c-d2dd-484e-da7f-b022ef0a432c"
      },
      "execution_count": 1,
      "outputs": [
        {
          "output_type": "stream",
          "name": "stdout",
          "text": [
            "--2024-08-21 11:21:51--  https://raw.githubusercontent.com/karpathy/char-rnn/master/data/tinyshakespeare/input.txt\n",
            "Resolving raw.githubusercontent.com (raw.githubusercontent.com)... 185.199.108.133, 185.199.109.133, 185.199.110.133, ...\n",
            "Connecting to raw.githubusercontent.com (raw.githubusercontent.com)|185.199.108.133|:443... connected.\n",
            "HTTP request sent, awaiting response... 200 OK\n",
            "Length: 1115394 (1.1M) [text/plain]\n",
            "Saving to: ‘input.txt.8’\n",
            "\n",
            "\rinput.txt.8           0%[                    ]       0  --.-KB/s               \rinput.txt.8         100%[===================>]   1.06M  --.-KB/s    in 0.06s   \n",
            "\n",
            "2024-08-21 11:21:51 (17.9 MB/s) - ‘input.txt.8’ saved [1115394/1115394]\n",
            "\n"
          ]
        }
      ]
    },
    {
      "cell_type": "code",
      "source": [
        "file = open(\"input.txt\", 'r')\n",
        "text = file.read()\n",
        "print(text[:500])"
      ],
      "metadata": {
        "colab": {
          "base_uri": "https://localhost:8080/"
        },
        "id": "uD6mbWzJTYeQ",
        "outputId": "63133a82-f64a-4e53-c7ca-d5828019077c"
      },
      "execution_count": 2,
      "outputs": [
        {
          "output_type": "stream",
          "name": "stdout",
          "text": [
            "First Citizen:\n",
            "Before we proceed any further, hear me speak.\n",
            "\n",
            "All:\n",
            "Speak, speak.\n",
            "\n",
            "First Citizen:\n",
            "You are all resolved rather to die than to famish?\n",
            "\n",
            "All:\n",
            "Resolved. resolved.\n",
            "\n",
            "First Citizen:\n",
            "First, you know Caius Marcius is chief enemy to the people.\n",
            "\n",
            "All:\n",
            "We know't, we know't.\n",
            "\n",
            "First Citizen:\n",
            "Let us kill him, and we'll have corn at our own price.\n",
            "Is't a verdict?\n",
            "\n",
            "All:\n",
            "No more talking on't; let it be done: away, away!\n",
            "\n",
            "Second Citizen:\n",
            "One word, good citizens.\n",
            "\n",
            "First Citizen:\n",
            "We are accounted poor\n"
          ]
        }
      ]
    },
    {
      "cell_type": "code",
      "source": [
        "len(text)"
      ],
      "metadata": {
        "colab": {
          "base_uri": "https://localhost:8080/"
        },
        "id": "Gt71fU2-VIoA",
        "outputId": "6ba39b4b-88a6-4c77-91d8-3a12fe682adb"
      },
      "execution_count": 3,
      "outputs": [
        {
          "output_type": "execute_result",
          "data": {
            "text/plain": [
              "1115394"
            ]
          },
          "metadata": {},
          "execution_count": 3
        }
      ]
    },
    {
      "cell_type": "code",
      "source": [
        "# Creating the most basic character level tokenizer, because our tokenizer is the most basic the context length will be big compared to if we used sub word level tokenizer.\n",
        "chars = sorted(list(set(text)))\n",
        "vocab_size = len(chars)\n",
        "\n",
        "stoi = { ch:i for i,ch in enumerate(chars) } # Output: {'a': 0, 'b': 1, 'c': 2}\n",
        "itos = { i:ch for i,ch in enumerate(chars) } #\n",
        "def encode(s):\n",
        "  return [stoi[c] for c in s]\n",
        "def decode(l):\n",
        "  return ''.join([itos[c] for c in l])\n",
        "\n",
        "print(decode(encode(\"I am shakesphere!\")))\n",
        "print(\"encoded vector length:\", len(encode(\"I am shakesphere!\")))\n"
      ],
      "metadata": {
        "colab": {
          "base_uri": "https://localhost:8080/"
        },
        "id": "4bXkFq63Vj48",
        "outputId": "bf1fd0d1-3115-4d69-f656-4bf6c63ca65a"
      },
      "execution_count": 4,
      "outputs": [
        {
          "output_type": "stream",
          "name": "stdout",
          "text": [
            "I am shakesphere!\n",
            "encoded vector length: 17\n"
          ]
        }
      ]
    },
    {
      "cell_type": "code",
      "source": [
        "import torch\n",
        "device = 'cuda' if torch.cuda.is_available() else 'cpu'\n",
        "data = torch.tensor(encode(text))\n",
        "data.shape, data.dtype"
      ],
      "metadata": {
        "colab": {
          "base_uri": "https://localhost:8080/"
        },
        "id": "L-j0i0kCV-CV",
        "outputId": "e460d1ec-e977-4029-a215-2479b7112f16"
      },
      "execution_count": 5,
      "outputs": [
        {
          "output_type": "execute_result",
          "data": {
            "text/plain": [
              "(torch.Size([1115394]), torch.int64)"
            ]
          },
          "metadata": {},
          "execution_count": 5
        }
      ]
    },
    {
      "cell_type": "code",
      "source": [
        "train_size = int(0.8 * len(data))\n",
        "val_size = int(0.1 * len(data))\n",
        "test_size = len(data) - train_size - val_size\n",
        "\n",
        "train_data = data[:train_size]\n",
        "val_data = data[train_size:train_size + val_size]\n",
        "test_data = data[train_size + val_size:]\n",
        "train_data.shape, val_data.shape, test_data.shape"
      ],
      "metadata": {
        "colab": {
          "base_uri": "https://localhost:8080/"
        },
        "id": "zoQLiqrLanPE",
        "outputId": "8035e6e0-7ecd-4afc-b1ba-535836b540d2"
      },
      "execution_count": 6,
      "outputs": [
        {
          "output_type": "execute_result",
          "data": {
            "text/plain": [
              "(torch.Size([892315]), torch.Size([111539]), torch.Size([111540]))"
            ]
          },
          "metadata": {},
          "execution_count": 6
        }
      ]
    },
    {
      "cell_type": "code",
      "source": [
        "torch.manual_seed(1337)\n",
        "batch_size = 16\n",
        "block_size = 32 # maximum context length for prediction\n",
        "\n",
        "def get_batch(split):\n",
        "    data = train_data if split == 'train' else val_data if split == 'val' else test_data\n",
        "    ix = torch.randint(len(data) - block_size, (batch_size,))\n",
        "    x = torch.stack([data[i:i+block_size] for i in ix])\n",
        "    y = torch.stack([data[i+1:i+block_size+1] for i in ix])\n",
        "    return x, y\n",
        "\n",
        "xb, yb = get_batch('train')\n",
        "print('inputs:', xb)\n",
        "print('targets:', yb)"
      ],
      "metadata": {
        "colab": {
          "base_uri": "https://localhost:8080/"
        },
        "id": "UI6Poa-qaw35",
        "outputId": "5bb6b14b-3a2f-42d3-ac07-8bb6f3a800cd"
      },
      "execution_count": 7,
      "outputs": [
        {
          "output_type": "stream",
          "name": "stdout",
          "text": [
            "inputs: tensor([[39, 56, 58, 46,  8,  0, 13, 50, 50,  1, 51, 39, 63,  1, 40, 43,  1, 61,\n",
            "         43, 50, 50, 11,  1, 40, 59, 58,  6,  1, 47, 44,  1, 19],\n",
            "        [43,  8,  0, 32, 46, 43, 56, 43,  5, 57,  1, 57, 53, 51, 43,  1, 39, 51,\n",
            "         53, 52, 45,  1, 63, 53, 59,  1, 46, 39, 60, 43,  1, 40],\n",
            "        [50, 53,  6,  0, 21,  1, 41, 53, 52, 48, 59, 56, 43,  1, 58, 46, 43, 43,\n",
            "          6,  1, 40, 63,  1, 39, 50, 50,  1, 58, 46, 43,  1, 54],\n",
            "        [ 1, 45, 53, 53, 42,  1, 51, 63,  1, 50, 53, 56, 42, 11,  0, 18, 53, 56,\n",
            "          1, 53, 52,  1, 58, 46, 39, 58,  1, 45, 56, 53, 59, 52],\n",
            "        [56, 47, 43, 52, 42,  8,  0,  0, 32, 46, 47, 56, 42,  1, 35, 39, 58, 41,\n",
            "         46, 51, 39, 52, 10,  0, 27,  6,  1, 47, 57,  1, 47, 58],\n",
            "        [53, 59, 58, 57,  0, 20, 53, 61,  1, 63, 53, 59,  1, 41, 39, 52,  1, 44,\n",
            "         56, 53, 61, 52,  1, 58, 46, 39, 52,  1, 57, 54, 43, 52],\n",
            "        [43, 58, 58, 50, 43, 42,  1, 54, 56, 53, 48, 43, 41, 58,  0, 25, 39, 63,\n",
            "          1, 57, 59, 44, 44, 43, 56,  1, 39, 50, 58, 43, 56, 39],\n",
            "        [57,  1, 50, 47, 49, 43,  1, 58, 46, 53, 56, 52,  8,  0,  0, 25, 17, 30,\n",
            "         15, 33, 32, 21, 27, 10,  0, 21, 44,  1, 50, 53, 60, 43],\n",
            "        [56, 53, 53, 58,  1, 53, 44,  1, 39, 52, 41, 47, 43, 52, 58,  1, 43, 52,\n",
            "         60, 63,  8,  1, 21, 44,  1, 22, 59, 54, 47, 58, 43, 56],\n",
            "        [ 1, 39, 52, 42,  1, 58, 53, 54,  1, 53, 44,  1, 54, 56, 39, 47, 57, 43,\n",
            "         57,  1, 60, 53, 59, 41, 46,  5, 42,  6,  0, 35, 53, 59],\n",
            "        [ 6,  0, 32, 46, 39, 58,  1, 58, 46, 47, 57,  1, 57, 39, 51, 43,  1, 60,\n",
            "         43, 56, 63,  1, 42, 39, 63,  1, 63, 53, 59, 56,  1, 43],\n",
            "        [ 1, 61, 39, 63,  8,  0,  0, 34, 27, 24, 33, 25, 26, 21, 13, 10,  0, 27,\n",
            "          6,  1, 63, 43,  5, 56, 43,  1, 61, 43, 50, 50,  1, 51],\n",
            "        [ 1, 47, 52, 42, 43, 43, 42,  6,  0, 25, 53, 56, 43,  1, 41, 56, 47, 51,\n",
            "         47, 52, 39, 50,  1, 47, 52,  1, 58, 46, 43, 43,  1, 58],\n",
            "        [12,  0, 13, 52, 42,  1, 57, 58, 43, 43, 54,  5, 42,  1, 47, 52,  1, 40,\n",
            "         50, 53, 53, 42, 12,  1, 13, 46,  6,  1, 61, 46, 39, 58],\n",
            "        [52, 43,  1, 59, 52, 58, 53,  1, 51, 63, 57, 43, 50, 44, 12,  0, 27,  6,\n",
            "          1, 52, 53,  2,  1, 39, 50, 39, 57,  6,  1, 21,  1, 56],\n",
            "        [33, 15, 21, 27, 10,  0, 13, 63,  6,  1, 61, 46, 63,  1, 52, 53, 58, 12,\n",
            "          1, 19, 56, 39, 41, 43,  1, 47, 57,  1, 45, 56, 39, 41]])\n",
            "targets: tensor([[56, 58, 46,  8,  0, 13, 50, 50,  1, 51, 39, 63,  1, 40, 43,  1, 61, 43,\n",
            "         50, 50, 11,  1, 40, 59, 58,  6,  1, 47, 44,  1, 19, 53],\n",
            "        [ 8,  0, 32, 46, 43, 56, 43,  5, 57,  1, 57, 53, 51, 43,  1, 39, 51, 53,\n",
            "         52, 45,  1, 63, 53, 59,  1, 46, 39, 60, 43,  1, 40, 43],\n",
            "        [53,  6,  0, 21,  1, 41, 53, 52, 48, 59, 56, 43,  1, 58, 46, 43, 43,  6,\n",
            "          1, 40, 63,  1, 39, 50, 50,  1, 58, 46, 43,  1, 54, 39],\n",
            "        [45, 53, 53, 42,  1, 51, 63,  1, 50, 53, 56, 42, 11,  0, 18, 53, 56,  1,\n",
            "         53, 52,  1, 58, 46, 39, 58,  1, 45, 56, 53, 59, 52, 42],\n",
            "        [47, 43, 52, 42,  8,  0,  0, 32, 46, 47, 56, 42,  1, 35, 39, 58, 41, 46,\n",
            "         51, 39, 52, 10,  0, 27,  6,  1, 47, 57,  1, 47, 58,  1],\n",
            "        [59, 58, 57,  0, 20, 53, 61,  1, 63, 53, 59,  1, 41, 39, 52,  1, 44, 56,\n",
            "         53, 61, 52,  1, 58, 46, 39, 52,  1, 57, 54, 43, 52, 42],\n",
            "        [58, 58, 50, 43, 42,  1, 54, 56, 53, 48, 43, 41, 58,  0, 25, 39, 63,  1,\n",
            "         57, 59, 44, 44, 43, 56,  1, 39, 50, 58, 43, 56, 39, 58],\n",
            "        [ 1, 50, 47, 49, 43,  1, 58, 46, 53, 56, 52,  8,  0,  0, 25, 17, 30, 15,\n",
            "         33, 32, 21, 27, 10,  0, 21, 44,  1, 50, 53, 60, 43,  1],\n",
            "        [53, 53, 58,  1, 53, 44,  1, 39, 52, 41, 47, 43, 52, 58,  1, 43, 52, 60,\n",
            "         63,  8,  1, 21, 44,  1, 22, 59, 54, 47, 58, 43, 56,  0],\n",
            "        [39, 52, 42,  1, 58, 53, 54,  1, 53, 44,  1, 54, 56, 39, 47, 57, 43, 57,\n",
            "          1, 60, 53, 59, 41, 46,  5, 42,  6,  0, 35, 53, 59, 50],\n",
            "        [ 0, 32, 46, 39, 58,  1, 58, 46, 47, 57,  1, 57, 39, 51, 43,  1, 60, 43,\n",
            "         56, 63,  1, 42, 39, 63,  1, 63, 53, 59, 56,  1, 43, 52],\n",
            "        [61, 39, 63,  8,  0,  0, 34, 27, 24, 33, 25, 26, 21, 13, 10,  0, 27,  6,\n",
            "          1, 63, 43,  5, 56, 43,  1, 61, 43, 50, 50,  1, 51, 43],\n",
            "        [47, 52, 42, 43, 43, 42,  6,  0, 25, 53, 56, 43,  1, 41, 56, 47, 51, 47,\n",
            "         52, 39, 50,  1, 47, 52,  1, 58, 46, 43, 43,  1, 58, 46],\n",
            "        [ 0, 13, 52, 42,  1, 57, 58, 43, 43, 54,  5, 42,  1, 47, 52,  1, 40, 50,\n",
            "         53, 53, 42, 12,  1, 13, 46,  6,  1, 61, 46, 39, 58,  1],\n",
            "        [43,  1, 59, 52, 58, 53,  1, 51, 63, 57, 43, 50, 44, 12,  0, 27,  6,  1,\n",
            "         52, 53,  2,  1, 39, 50, 39, 57,  6,  1, 21,  1, 56, 39],\n",
            "        [15, 21, 27, 10,  0, 13, 63,  6,  1, 61, 46, 63,  1, 52, 53, 58, 12,  1,\n",
            "         19, 56, 39, 41, 43,  1, 47, 57,  1, 45, 56, 39, 41, 43]])\n"
          ]
        }
      ]
    },
    {
      "cell_type": "code",
      "source": [
        "import torch\n",
        "import torch.nn as nn\n",
        "from torch.nn import functional as F\n",
        "\n",
        "class Head(nn.Module):\n",
        "    \"\"\" self- attention head, performing the scaled dot product attention,\n",
        "    with three linear layers one each for key, query and value \"\"\"\n",
        "    def __init__(self, head_size):\n",
        "        super().__init__()\n",
        "        self.key = nn.Linear(n_embd, head_size, bias=False)\n",
        "        self.query = nn.Linear(n_embd, head_size, bias=False)\n",
        "        self.value = nn.Linear(n_embd, head_size, bias=False)\n",
        "        self.register_buffer('tril', torch.tril(torch.ones(block_size, block_size)))\n",
        "        self.dropout = nn.Dropout(dropout)\n",
        "\n",
        "    def forward(self, x):\n",
        "        B,T,C = x.shape # (Batch, Time, Channel)\n",
        "        k = self.key(x)   # (B,T,C) will contain info about what it has\n",
        "        q = self.query(x) # (B,T,C) info about what it wants\n",
        "        # compute attention scores (\"affinities\")\n",
        "        wei = q @ k.transpose(-2,-1) * C**-0.5 # (B, T, C) @ (B, C, T) -> (B, T, T) with key and query learn what information to get from where\n",
        "        # when at the character c we dont want to look ahead, so setrting all their probabilities to 0 with the help of softmax\n",
        "        wei = wei.masked_fill(self.tril[:T, :T] == 0, float('-inf')) # (B, T, T)\n",
        "        wei = F.softmax(wei, dim=-1) # (B, T, T)\n",
        "\n",
        "        wei = self.dropout(wei)\n",
        "        # perform the weighted aggregation of the values\n",
        "        v = self.value(x) # (B,T,C) info about what it will give\n",
        "        out = wei @ v # (B, T, T) @ (B, T, C) -> (B, T, C)\n",
        "        return out\n",
        "\n",
        "class MultiHeadAttention(nn.Module):\n",
        "    \"\"\" multiple heads of self-attention in parallel \"\"\"\n",
        "\n",
        "    def __init__(self, num_heads, head_size):\n",
        "        super().__init__()\n",
        "        self.heads = nn.ModuleList([Head(head_size) for _ in range(num_heads)])\n",
        "        self.proj = nn.Linear(n_embd, n_embd)\n",
        "        self.dropout = nn.Dropout(dropout)\n",
        "\n",
        "    def forward(self, x):\n",
        "        out = torch.cat([h(x) for h in self.heads], dim=-1)\n",
        "        out = self.dropout(self.proj(out))\n",
        "        return out\n",
        "\n",
        "class FeedFoward(nn.Module):\n",
        "    \"\"\" a simple linear layer followed by a non-linearity \"\"\"\n",
        "\n",
        "    def __init__(self, n_embd):\n",
        "        super().__init__()\n",
        "        self.net = nn.Sequential(\n",
        "            nn.Linear(n_embd, 4 * n_embd),\n",
        "            nn.ReLU(),\n",
        "            nn.Linear(4 * n_embd, n_embd),\n",
        "            nn.Dropout(dropout),\n",
        "        )\n",
        "\n",
        "    def forward(self, x):\n",
        "        return self.net(x)\n",
        "\n",
        "class Block(nn.Module):\n",
        "    \"\"\" Transformer block: communication followed by computation \"\"\"\n",
        "\n",
        "    def __init__(self, n_embd, n_head):\n",
        "        # n_embd: embedding dimension, n_head: the number of heads we'd like\n",
        "        super().__init__()\n",
        "        head_size = n_embd // n_head\n",
        "        self.sa = MultiHeadAttention(n_head, head_size)\n",
        "        self.ffwd = FeedFoward(n_embd)\n",
        "        self.ln1 = nn.LayerNorm(n_embd)\n",
        "        self.ln2 = nn.LayerNorm(n_embd)\n",
        "\n",
        "    def forward(self, x):\n",
        "        x = x + self.sa(self.ln1(x))\n",
        "        x = x + self.ffwd(self.ln2(x))\n",
        "        return x\n",
        "\n",
        "# simple model\n",
        "class LanguageModel(nn.Module):\n",
        "\n",
        "    def __init__(self):\n",
        "        super().__init__()\n",
        "        # each token directly reads off the logits for the next token from a lookup table\n",
        "        self.token_embedding_table = nn.Embedding(vocab_size, n_embd) # a lookup table\n",
        "        self.position_embedding_table = nn.Embedding(block_size, n_embd) # to store info about the position of the character\n",
        "        self.blocks = nn.Sequential(*[Block(n_embd, n_head) for _ in range(n_layer)])\n",
        "        self.ln_f = nn.LayerNorm(n_embd) # final layer norm\n",
        "        self.lm_head = nn.Linear(n_embd, vocab_size)\n",
        "\n",
        "    def forward(self, idx, targets=None):\n",
        "        B, T = idx.shape # idx and targets are both (B,T) tensor of integers\n",
        "        tok_emb = self.token_embedding_table(idx) # (B,T,C), # plucking out the corresponding embeddings for all the idx\n",
        "        pos_emb = self.position_embedding_table(torch.arange(T, device=device)) # (T,C)\n",
        "        x = tok_emb + pos_emb # (B,T,C)\n",
        "        x = self.blocks(x) # (B,T,C)\n",
        "        x = self.ln_f(x) # (B,T,C)\n",
        "        logits = self.lm_head(x) # (B,T,vocab_size)\n",
        "\n",
        "        if targets is None:\n",
        "            loss = None\n",
        "        else:\n",
        "            B, T, C = logits.shape\n",
        "            logits = logits.view(B*T, C)\n",
        "            targets = targets.view(B*T)\n",
        "            loss = F.cross_entropy(logits, targets)\n",
        "        return logits, loss\n",
        "\n",
        "    def generate(self, contextword, max_new_tokens):\n",
        "        idx = torch.tensor(encode(contextword), device=device).unsqueeze(0)\n",
        "        # idx is (B, T)\n",
        "        for _ in range(max_new_tokens):\n",
        "            idx_cond = idx[:, -block_size:] # crop idx to the last block_size (T) tokens\n",
        "            logits, loss = self(idx_cond) # get the predictions\n",
        "            logits = logits[:, -1, :] # get the last character, tensor is now (B, C)\n",
        "            probs = F.softmax(logits, dim=-1) # (B, C), apply softmax to get probabilities\n",
        "            idx_next = torch.multinomial(probs, num_samples=1) # (B, 1) sample from the distribution\n",
        "            idx = torch.cat((idx, idx_next), dim=1) # (B, T+1), add it and send it again and send\n",
        "        return decode(idx[0].tolist())\n",
        "\n",
        "@torch.no_grad()\n",
        "def estimate_loss():\n",
        "    out = {}\n",
        "    model.eval()\n",
        "    for split in ['train', 'val']:\n",
        "        losses = torch.zeros(eval_iters)\n",
        "        for k in range(eval_iters):\n",
        "            X, Y = get_batch(split)\n",
        "            logits, loss = model(X, Y)\n",
        "            losses[k] = loss.item()\n",
        "        out[split] = losses.mean()\n",
        "    model.train()\n",
        "    return out"
      ],
      "metadata": {
        "id": "yYkcthexwosp"
      },
      "execution_count": 8,
      "outputs": []
    },
    {
      "cell_type": "code",
      "source": [
        "import matplotlib.pyplot as plt\n",
        "# hyperparameters\n",
        "max_iters = 5000\n",
        "eval_interval = 100\n",
        "learning_rate = 1e-3\n",
        "eval_iters = 200\n",
        "n_embd = 64\n",
        "n_head = 4\n",
        "n_layer = 4\n",
        "dropout = 0.2\n",
        "\n",
        "model = LanguageModel()\n",
        "m = model.to(device)\n",
        "print(sum(p.numel() for p in m.parameters()))\n",
        "# create a PyTorch optimizer\n",
        "optimizer = torch.optim.AdamW(model.parameters(), lr=learning_rate)\n",
        "\n",
        "# Variables to store loss values and iterations\n",
        "train_losses = []\n",
        "val_losses = []\n",
        "iterations = []\n",
        "\n",
        "for iter in range(max_iters):\n",
        "    if iter % eval_interval == 0 or iter == max_iters - 1:\n",
        "        losses = estimate_loss()\n",
        "        train_loss = losses['train']\n",
        "        val_loss = losses['val']\n",
        "\n",
        "        # Store losses and current iteration\n",
        "        train_losses.append(train_loss)\n",
        "        val_losses.append(val_loss)\n",
        "        iterations.append(iter)\n",
        "\n",
        "        print(f\"step {iter}: train loss {train_loss:.4f}, val loss {val_loss:.4f}\")\n",
        "\n",
        "    # sample a batch of data\n",
        "    xb, yb = get_batch('train')\n",
        "\n",
        "    # make the forward and the backward pass and evaluate the loss\n",
        "    logits, loss = model(xb, yb)\n",
        "    optimizer.zero_grad(set_to_none=True)\n",
        "    loss.backward()\n",
        "    optimizer.step()\n",
        "\n",
        "# Plotting the losses\n",
        "plt.figure(figsize=(10, 6))\n",
        "plt.plot(iterations, train_losses, label='Train Loss')\n",
        "plt.plot(iterations, val_losses, label='Validation Loss')\n",
        "plt.xlabel('Iteration')\n",
        "plt.ylabel('Loss')\n",
        "plt.title('Training and Validation Loss vs. Iterations')\n",
        "plt.legend()\n",
        "plt.grid(True)\n",
        "plt.show()\n"
      ],
      "metadata": {
        "colab": {
          "base_uri": "https://localhost:8080/",
          "height": 1000
        },
        "id": "GXsROQV7dQW-",
        "outputId": "b26c82f7-37d6-43ed-eb75-09a19bc4616b"
      },
      "execution_count": 9,
      "outputs": [
        {
          "output_type": "stream",
          "name": "stdout",
          "text": [
            "209729\n",
            "step 0: train loss 4.4083, val loss 4.4006\n",
            "step 100: train loss 2.6749, val loss 2.6999\n",
            "step 200: train loss 2.5302, val loss 2.5540\n",
            "step 300: train loss 2.4472, val loss 2.4874\n",
            "step 400: train loss 2.3892, val loss 2.4226\n",
            "step 500: train loss 2.3339, val loss 2.3726\n",
            "step 600: train loss 2.2969, val loss 2.3350\n",
            "step 700: train loss 2.2540, val loss 2.2990\n",
            "step 800: train loss 2.2242, val loss 2.2515\n",
            "step 900: train loss 2.1951, val loss 2.2270\n",
            "step 1000: train loss 2.1761, val loss 2.2280\n",
            "step 1100: train loss 2.1445, val loss 2.1885\n",
            "step 1200: train loss 2.1191, val loss 2.1687\n",
            "step 1300: train loss 2.0896, val loss 2.1449\n",
            "step 1400: train loss 2.0838, val loss 2.1262\n",
            "step 1500: train loss 2.0648, val loss 2.1091\n",
            "step 1600: train loss 2.0510, val loss 2.0989\n",
            "step 1700: train loss 2.0296, val loss 2.0768\n",
            "step 1800: train loss 2.0143, val loss 2.0696\n",
            "step 1900: train loss 1.9920, val loss 2.0449\n",
            "step 2000: train loss 1.9851, val loss 2.0312\n",
            "step 2100: train loss 1.9650, val loss 2.0271\n",
            "step 2200: train loss 1.9551, val loss 2.0098\n",
            "step 2300: train loss 1.9405, val loss 2.0055\n",
            "step 2400: train loss 1.9286, val loss 1.9968\n",
            "step 2500: train loss 1.9218, val loss 1.9855\n",
            "step 2600: train loss 1.9121, val loss 1.9853\n",
            "step 2700: train loss 1.9068, val loss 1.9797\n",
            "step 2800: train loss 1.8903, val loss 1.9749\n",
            "step 2900: train loss 1.8856, val loss 1.9660\n",
            "step 3000: train loss 1.8851, val loss 1.9613\n",
            "step 3100: train loss 1.8683, val loss 1.9544\n",
            "step 3200: train loss 1.8761, val loss 1.9461\n",
            "step 3300: train loss 1.8580, val loss 1.9366\n",
            "step 3400: train loss 1.8495, val loss 1.9238\n",
            "step 3500: train loss 1.8400, val loss 1.9264\n",
            "step 3600: train loss 1.8525, val loss 1.9405\n",
            "step 3700: train loss 1.8411, val loss 1.9422\n",
            "step 3800: train loss 1.8323, val loss 1.9165\n",
            "step 3900: train loss 1.8213, val loss 1.8982\n",
            "step 4000: train loss 1.8142, val loss 1.9053\n",
            "step 4100: train loss 1.8058, val loss 1.9071\n",
            "step 4200: train loss 1.7974, val loss 1.9019\n",
            "step 4300: train loss 1.8082, val loss 1.8933\n",
            "step 4400: train loss 1.8070, val loss 1.9070\n",
            "step 4500: train loss 1.7977, val loss 1.8917\n",
            "step 4600: train loss 1.7879, val loss 1.8777\n",
            "step 4700: train loss 1.7846, val loss 1.8839\n",
            "step 4800: train loss 1.7758, val loss 1.8733\n",
            "step 4900: train loss 1.7758, val loss 1.8745\n",
            "step 4999: train loss 1.7733, val loss 1.8648\n"
          ]
        },
        {
          "output_type": "display_data",
          "data": {
            "text/plain": [
              "<Figure size 1000x600 with 1 Axes>"
            ],
            "image/png": "[encoded data removed]"
          },
          "metadata": {}
        }
      ]
    },
    {
      "cell_type": "markdown",
      "source": [],
      "metadata": {
        "id": "tpz6HtqrtkkI"
      }
    },
    {
      "cell_type": "markdown",
      "source": [
        "### The models initialization needs to be fixed, currently the loss at the starting is around 4.4 which is too big, it means the model is getting unlucky in the initialization, in a good model initialization the the model should not predict wrong things with so much confidence. To reduce the loss, decrease the range of the enbeddings or include batch normalization. For the first few iterations the model is trying to just unlearn because of the very confident wrong embeddings."
      ],
      "metadata": {
        "id": "ciftaNoS8oCS"
      }
    },
    {
      "cell_type": "code",
      "source": [
        "# The the model predicted every next character with same confidence the loss would a little better, improving that is the next step\n",
        "import math\n",
        "print(\"Good starting loss is\", -math.log(1.0/vocab_size), \"currently the model has a loss of\", losses )"
      ],
      "metadata": {
        "id": "ciT8nhdDy5eK",
        "colab": {
          "base_uri": "https://localhost:8080/"
        },
        "outputId": "f4986774-951f-4583-dc87-99e748ddbee5"
      },
      "execution_count": 10,
      "outputs": [
        {
          "output_type": "stream",
          "name": "stdout",
          "text": [
            "Good starting loss is 4.174387269895637 currently the model has a loss of {'train': tensor(1.7733), 'val': tensor(1.8648)}\n"
          ]
        }
      ]
    },
    {
      "cell_type": "code",
      "source": [
        "contextword = \"Hello there\"\n",
        "print(m.generate(contextword, max_new_tokens=2000))"
      ],
      "metadata": {
        "colab": {
          "base_uri": "https://localhost:8080/"
        },
        "id": "RneLigPxeIjf",
        "outputId": "e7a3bd9f-a04a-4f88-f747-1e2b23820016"
      },
      "execution_count": 11,
      "outputs": [
        {
          "output_type": "stream",
          "name": "stdout",
          "text": [
            "Hello there witorse hither rather,\n",
            "And, dave-to me me reaccoty: res:\n",
            "Withing-bese frome. them theingm ! Ho seadst thet are ock\n",
            "Is all rauss agay.-Dordoing nut,\n",
            "Ay the shenable for dickion:\n",
            "Which enous mans a denten the more mode.\n",
            "Who's are but wouless:\n",
            "Whost dot hear tay priearm have! sham,\n",
            "Now of stuch I'll fears indercht af youry:\n",
            "Annce the\n",
            "IfXe, what.\n",
            "\n",
            "HENGBRIEST:\n",
            "Why spet ad:\n",
            "Peint, these faitels beart'd were of fight Diees,\n",
            "Uttoning of thee, is me would, it me filling alld thou dage I nto to amm your and his sup alt anause.\n",
            "\n",
            "NORD Londe:\n",
            "WeHat litteve vories, that, that sair might may lay!\n",
            "\n",
            "MARESTIL:\n",
            "Wherewt the your you, whome!-'s wart whone skind good at begeam stembjoing;\n",
            "The hand to\n",
            "A treving me doo henhis lore deson.\n",
            "\n",
            "ADd to cains you is.\n",
            "\n",
            "OF ERCHARD:\n",
            "Reclome wombering the his neck upon?\n",
            "Ist and Doose coucks\n",
            "Well plisind's my him.\n",
            "\n",
            "POLO:\n",
            "Naint one vater's\n",
            "Welcombrobmoes not anyied the harkerss;\n",
            "Those but her, say-cienty,\n",
            "-will fortir, with be a st,\n",
            ".\n",
            "\n",
            "Preaken, you toseson:\n",
            "There lixe commarisurer you it; thou dradier incly,\n",
            "Untimnancetry chopeste; wit?\n",
            "\n",
            "GLOUCESTER:\n",
            "Have hy he hads dewpert anE\n",
            "Whosh longerliams sonew arstion?\n",
            "\n",
            "FORD PAUTIUS, dough merbul'd\n",
            "Why fromencess you have it lamgl.\n",
            "\n",
            "BOLANUS:\n",
            "Hell, morrite broines, taire,--\n",
            "\n",
            "HENRY VIS:\n",
            "Why, me do thought\n",
            "Why's enast:\n",
            "The nobtin's hand bearial; hoad graust as and his king if by an chip thou\n",
            "bone but but ende, queet.\n",
            "\n",
            "CLANUS:\n",
            "Roist, and thought, Gyhann usights.\n",
            "Songby, beak he senate, cann accurnise?\n",
            "\n",
            "KING HATITING:\n",
            "Tent, betry fad, this mujuce it\n",
            "roces 's somut perge pamillose, ancearming a his, agch reir sooze:heel,\n",
            "Rishilly prosed leand ann,\n",
            "Dorget it prosspy,\n",
            "Maning the rume broblesses?, canstame your your underal yence to-lon anor, and mead listotle shage not pring womnt crave hart blood havihe in'l porses, cunteecei meow it thy muster;\n",
            "Yay the comatious, mary alw, u sanil\n",
            "Per: leet he sened acch and mise;\n",
            "Me\n",
            "Anneef thou be sauce itiom, at by of enclon,\n",
            "Nriaught winds inlite ear thy twordon,\n",
            "To caperful buknin\n"
          ]
        }
      ]
    },
    {
      "cell_type": "code",
      "source": [
        "# The data is not that gibrish anymore"
      ],
      "metadata": {
        "id": "dZsYHKPNkasH"
      },
      "execution_count": 12,
      "outputs": []
    },
    {
      "cell_type": "code",
      "source": [],
      "metadata": {
        "id": "RHGYvF1Ro1b2"
      },
      "execution_count": 12,
      "outputs": []
    }
  ]
}